{
 "cells": [
  {
   "cell_type": "markdown",
   "id": "8650aacd",
   "metadata": {},
   "source": [
    "## Ejercicio 1\n",
    "\n",
    "Cual es el número minimo de elementos de la serie $1 + 1/2 + 1/4 + 1/8$ + ...para alcanzar un error absoluto $e_{abs}$ dentro de $10^{-1}$ ?"
   ]
  },
  {
   "cell_type": "code",
   "execution_count": 7,
   "id": "43d58a49",
   "metadata": {},
   "outputs": [
    {
     "name": "stdout",
     "output_type": "stream",
     "text": [
      "El número mínimo de elementos de la serie es: 5\n"
     ]
    }
   ],
   "source": [
    "suma = 0\n",
    "i = 0\n",
    "while (2-suma)>= 10**-1:\n",
    "    suma+= (1/2)**i\n",
    "    i+=1\n",
    "print(f'El número mínimo de elementos de la serie es: {i}')"
   ]
  }
 ],
 "metadata": {
  "kernelspec": {
   "display_name": "base",
   "language": "python",
   "name": "python3"
  },
  "language_info": {
   "codemirror_mode": {
    "name": "ipython",
    "version": 3
   },
   "file_extension": ".py",
   "mimetype": "text/x-python",
   "name": "python",
   "nbconvert_exporter": "python",
   "pygments_lexer": "ipython3",
   "version": "3.13.5"
  }
 },
 "nbformat": 4,
 "nbformat_minor": 5
}
