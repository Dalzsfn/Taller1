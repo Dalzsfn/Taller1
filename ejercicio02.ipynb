{
 "cells": [
  {
   "cell_type": "markdown",
   "id": "8c968a91",
   "metadata": {},
   "source": [
    "## Ejercicio 2 (Bubble sort)\n",
    "\n",
    "### Corrida de escritorio\n",
    "$v = [3, 2, 5, 8, 4, 1]$\n",
    "\n",
    "| i | Vector |\n",
    "| -- | -- |\n",
    "| 0 | $ [3, 2, 5, 8, 4, 1] $ |\n",
    "| 1 | $ [2, 3, 5, 8, 4, 1] $ |\n",
    "| 2 | $ [2, 3, 5, 4, 8, 1] $ |\n",
    "| 3 | $ [2, 3, 5, 4, 1, 8] $ |\n",
    "| 4 | $ [2, 3, 4, 5, 1, 8] $ |\n",
    "| 5 | $ [2, 3, 4, 1, 5, 8] $ |\n",
    "| 6 | $ [2, 3, 1, 4, 5, 8] $ |\n",
    "| 7 | $ [2, 1, 3, 4, 5, 8] $ |\n",
    "| 8 | $ [1, 2, 3, 4, 5, 8] $ |\n",
    "| 9 | $ [1, 2, 3, 4, 5, 8] $ |\n",
    "\n",
    "Resultado final:\n",
    "\n",
    "$v_{sorted} = [1,2,3,4,5,8]$\n",
    "\n",
    "Caso de Prueba:\n",
    "* $v_2=[-1,0,4,5,6,7]$\n",
    "* $v_3$ 100_000 número aleatorios entre -200 y 145."
   ]
  },
  {
   "cell_type": "code",
   "execution_count": 2,
   "id": "a4eecdc5",
   "metadata": {},
   "outputs": [
    {
     "name": "stdout",
     "output_type": "stream",
     "text": [
      "El número de comparaciones que hace son: 8\n",
      "El número de comparaciones que hace son: 0\n"
     ]
    },
    {
     "ename": "KeyboardInterrupt",
     "evalue": "",
     "output_type": "error",
     "traceback": [
      "\u001b[31m---------------------------------------------------------------------------\u001b[39m",
      "\u001b[31mKeyboardInterrupt\u001b[39m                         Traceback (most recent call last)",
      "\u001b[36mCell\u001b[39m\u001b[36m \u001b[39m\u001b[32mIn[2]\u001b[39m\u001b[32m, line 25\u001b[39m\n\u001b[32m     21\u001b[39m bubble_sort(lista2)\n\u001b[32m     24\u001b[39m lista3 = [random.randint(-\u001b[32m200\u001b[39m, \u001b[32m145\u001b[39m) \u001b[38;5;28;01mfor\u001b[39;00m _ \u001b[38;5;129;01min\u001b[39;00m \u001b[38;5;28mrange\u001b[39m(\u001b[32m100_000\u001b[39m)]\n\u001b[32m---> \u001b[39m\u001b[32m25\u001b[39m \u001b[43mbubble_sort\u001b[49m\u001b[43m(\u001b[49m\u001b[43mlista3\u001b[49m\u001b[43m)\u001b[49m\n",
      "\u001b[36mCell\u001b[39m\u001b[36m \u001b[39m\u001b[32mIn[2]\u001b[39m\u001b[32m, line 11\u001b[39m, in \u001b[36mbubble_sort\u001b[39m\u001b[34m(a)\u001b[39m\n\u001b[32m      9\u001b[39m         a[j], a[j - \u001b[32m1\u001b[39m] = a[j - \u001b[32m1\u001b[39m], a[j]\n\u001b[32m     10\u001b[39m         swapped = \u001b[38;5;28;01mTrue\u001b[39;00m\n\u001b[32m---> \u001b[39m\u001b[32m11\u001b[39m         contador += \u001b[32m1\u001b[39m  \n\u001b[32m     12\u001b[39m \u001b[38;5;28;01mif\u001b[39;00m \u001b[38;5;129;01mnot\u001b[39;00m swapped:\n\u001b[32m     13\u001b[39m     \u001b[38;5;28mprint\u001b[39m(\u001b[33mf\u001b[39m\u001b[33m'\u001b[39m\u001b[33mEl número de comparaciones que hace son: \u001b[39m\u001b[38;5;132;01m{\u001b[39;00mcontador\u001b[38;5;132;01m}\u001b[39;00m\u001b[33m'\u001b[39m)\n",
      "\u001b[31mKeyboardInterrupt\u001b[39m: "
     ]
    }
   ],
   "source": [
    "import random\n",
    "\n",
    "def bubble_sort(a):\n",
    "    contador = 0\n",
    "    for i in range(len(a)):\n",
    "        swapped = False\n",
    "        for j in range(1, len(a) - i):\n",
    "            if a[j] < a[j - 1]:\n",
    "                a[j], a[j - 1] = a[j - 1], a[j]\n",
    "                swapped = True\n",
    "                contador += 1  \n",
    "        if not swapped:\n",
    "            print(f'El número de comparaciones que hace son: {contador}')\n",
    "            break\n",
    "    \n",
    "\n",
    "lista1 = [3, 2, 5, 8, 4, 1]\n",
    "bubble_sort(lista1)\n",
    "\n",
    "lista2 = [-1, 0, 4, 5, 6, 7]\n",
    "bubble_sort(lista2)\n",
    "\n",
    "\n",
    "lista3 = [random.randint(-200, 145) for _ in range(100_000)]\n",
    "bubble_sort(lista3)\n"
   ]
  }
 ],
 "metadata": {
  "kernelspec": {
   "display_name": "base",
   "language": "python",
   "name": "python3"
  },
  "language_info": {
   "codemirror_mode": {
    "name": "ipython",
    "version": 3
   },
   "file_extension": ".py",
   "mimetype": "text/x-python",
   "name": "python",
   "nbconvert_exporter": "python",
   "pygments_lexer": "ipython3",
   "version": "3.13.5"
  }
 },
 "nbformat": 4,
 "nbformat_minor": 5
}
