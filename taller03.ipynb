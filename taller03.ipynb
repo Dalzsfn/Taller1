{
 "cells": [
  {
   "cell_type": "code",
   "execution_count": 39,
   "id": "02d77ede",
   "metadata": {},
   "outputs": [
    {
     "name": "stdout",
     "output_type": "stream",
     "text": [
      "La iteración es: 14\n",
      "1.6180257510729614 1.618033988749895\n",
      "377\n"
     ]
    }
   ],
   "source": [
    "n = 100\n",
    "aurea = (1 + 5**0.5) / 2\n",
    "aurea_aprox = 0\n",
    "\n",
    "if n == 0:\n",
    "    print(0)\n",
    "else:\n",
    "    x = 0\n",
    "    y = 1\n",
    "    for i in range(1, n):\n",
    "        if x != 0:\n",
    "            aurea_aprox = y / x\n",
    "            \n",
    "          # aurea_aprox = round(aurea_aprox, 3)     \n",
    "            if abs(aurea - aurea_aprox) <= 10**-5:\n",
    "                print(f'La iteración es: {i}')\n",
    "                print(aurea_aprox, aurea)\n",
    "                break\n",
    "\n",
    "        z = x + y\n",
    "        x = y\n",
    "        y = z\n",
    "    print(y)"
   ]
  }
 ],
 "metadata": {
  "kernelspec": {
   "display_name": "base",
   "language": "python",
   "name": "python3"
  },
  "language_info": {
   "codemirror_mode": {
    "name": "ipython",
    "version": 3
   },
   "file_extension": ".py",
   "mimetype": "text/x-python",
   "name": "python",
   "nbconvert_exporter": "python",
   "pygments_lexer": "ipython3",
   "version": "3.13.5"
  }
 },
 "nbformat": 4,
 "nbformat_minor": 5
}
